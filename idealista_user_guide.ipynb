{
 "cells": [
  {
   "cell_type": "markdown",
   "metadata": {},
   "source": [
    "# A user's guide to the *idealista* public search API.  \n",
    "\n",
    "This notebook explains how to obtain property information published in the *idealista* website using the most exciting programing language out there: the one and only [Julia](https://julialang.org) language. \n",
    "\n",
    "Before we get started, a little background on *idealista* is due. This Spanish enterprise was funded in 2000 and offers real estate services across the entire Spanish geography since 2004. Moreover, they have recently expanded to Italy and Portugal. For more information on their history, you can check their Wikipedia page [here](https://es.wikipedia.org/wiki/Idealista.com). \n",
    "\n",
    "The *idealista* web portal is the most widely used in Spain, and as a result, it has information on a wide range of listed properties across the Spanish geography. This information includes characteristics of the dwellings, e.g. size, number of rooms, number of bathrooms, etc., as well as their asking prices. Consequently, obtaining this information can be very helpful for those interested in housing and rental markets.\n",
    "\n",
    "Luckily, the *idealista* lab offers the possibility to access their database through a public API. In particular, anyone interested can request access in [here](https://developers.idealista.com/access-request). As a result, and after some weeks of waiting, you will receive an \"apikey\" and a \"secret\". These two will allow you to obtain a token that is valid for a maximum of 100 requests per month. I'll show below how to obtain that token using Julia. Given the OAuth 2.0 Authentication bearer token, you will be able to send a request to their public API using different filters on your search. For example, you can decide on the type of operation (sale vs rent), type of property (homes, offices, premises, garages, bedrooms) and/or the location (e.g. Madrid). Once you have selected and specified a value for your filters, you are ready to send the HTTP request and obtain a list with the current listed properties that satisfy your search parameters. \n",
    "\n",
    "**Important limitations.** So far it seems that the *idealista* can be a great source of information for the housing and rental markets in Spain. However, not all that glitters is gold. In particular, there are two limitations that make the public API insufficient for large scale research project:\n",
    "\n",
    "1. It is not possible to recover past information about the listings. Thus, it is not possible to construct a time series. \n",
    "\n",
    "2. There are some limits on your requests. The public API only allows you to recover 50 listings at a time. This is because the number of items per page is limited to 50 and you have to specify the page number in each of your searches. Moreover, there is also a limit of 100 requests per month. Consequently, the combination of these two will only allow you to obtain 50,000 observations per month that you will have to distribute across the Spanish geography. \n",
    "\n",
    "This may be sufficient for some projects, e.g. those interested in the cross section and with a particular focus on a given region. In any case, it is possible to circumvent these two limitations but you will have to dig deep into your pockets. \n",
    "\n",
    "Bearing that in mind, let's get started!"
   ]
  },
  {
   "cell_type": "markdown",
   "metadata": {},
   "source": [
    "## The Julia Toolbox."
   ]
  },
  {
   "cell_type": "markdown",
   "metadata": {},
   "source": [
    "Below, I reproduce the main functions that are necessary to recover the information that results from a **single search** in the *idealista* web portal. For more complicated searches, e.g. if you want to obtain the listings in different Spanish cites, it is convenient to wrap up these functions into a module.   "
   ]
  },
  {
   "cell_type": "code",
   "execution_count": 1,
   "metadata": {},
   "outputs": [],
   "source": [
    "# Packages:\n",
    "using JSON\n",
    "using Base64\n",
    "using HTTP\n",
    "using DataFrames"
   ]
  },
  {
   "cell_type": "markdown",
   "metadata": {},
   "source": [
    "### Step 1: Getting the authentication token"
   ]
  },
  {
   "cell_type": "markdown",
   "metadata": {},
   "source": [
    "This function takes two arguments: the apikey and the secret, and transforms them into a token. The apikey and the secret are strings that contain both letter and numbers. You will receive them with your application to the public API. The resulting token is also a string that is used later as an input for the search. "
   ]
  },
  {
   "cell_type": "code",
   "execution_count": 2,
   "metadata": {},
   "outputs": [
    {
     "data": {
      "text/plain": [
       "get_oauth_token (generic function with 1 method)"
      ]
     },
     "execution_count": 2,
     "metadata": {},
     "output_type": "execute_result"
    }
   ],
   "source": [
    "function get_oauth_token(apikey::String, secret::String)\n",
    "\n",
    "    url = \"https://api.idealista.com/oauth/token\"\n",
    "    apikey_secret = apikey*\":\"*secret\n",
    "    auth = Base64.base64encode(apikey_secret)\n",
    "\n",
    "    h = [\"Authorization\" => \"Basic \"* auth,\n",
    "         \"Content-Type\" => \"application/x-www-form-urlencoded;charset=UTF-8\"]\n",
    "    b = HTTP.escapeuri([\"grant_type\" => \"client_credentials\"\n",
    "                        \"scope\" => \"read\"])\n",
    "    content = HTTP.request(\"POST\", url, h, b)\n",
    "    bearer_token = JSON.parse(String(content.body))[\"access_token\"]\n",
    "\n",
    "    return bearer_token\n",
    "end"
   ]
  },
  {
   "cell_type": "markdown",
   "metadata": {},
   "source": [
    "### Step 2: Sending a request "
   ]
  },
  {
   "cell_type": "markdown",
   "metadata": {},
   "source": [
    "This function takes a dictionary specifying the parameters of the search and returns the url used for the search. In particular, the keys of the dictionary are the filters that you want to apply, and the values are just that: the values of that specific filter. Notice that the values can take many formats depending on the filter itself. The possible set of filters as well as the type of values that each of them admits are specified in the documentation sent along with the apikey and the secret. "
   ]
  },
  {
   "cell_type": "code",
   "execution_count": 3,
   "metadata": {},
   "outputs": [
    {
     "data": {
      "text/plain": [
       "search_url (generic function with 1 method)"
      ]
     },
     "execution_count": 3,
     "metadata": {},
     "output_type": "execute_result"
    }
   ],
   "source": [
    "function search_url(search_params::Dict)\n",
    "\n",
    "    s_ini = \"https://api.idealista.com/3.5/es/search?\"\n",
    "\n",
    "    for key in keys(search_params)\n",
    "        val = search_params[key]\n",
    "        s_ini = s_ini * key * \"=\" * val * \"&\"\n",
    "    end\n",
    "\n",
    "    return  s_ini[1:end-1]\n",
    "end"
   ]
  },
  {
   "cell_type": "markdown",
   "metadata": {},
   "source": [
    "This function sends a request to the *idealista* API using the token from Step 1 and the url obtained in the previous function. The results obtained in this step are however not ready to be analyzed and need to be processed.  "
   ]
  },
  {
   "cell_type": "code",
   "execution_count": 4,
   "metadata": {},
   "outputs": [
    {
     "data": {
      "text/plain": [
       "search_api (generic function with 1 method)"
      ]
     },
     "execution_count": 4,
     "metadata": {},
     "output_type": "execute_result"
    }
   ],
   "source": [
    "function search_api(token::String, url::String)\n",
    "\n",
    "    headers = [\"Content-Type\" => \"Content-Type: multipart/form-data;\"\n",
    "               \"Authorization\" => \"Bearer \" * token]\n",
    "    content = HTTP.request(\"POST\", url, headers)\n",
    "    results = JSON.parse(String(content.body))\n",
    "\n",
    "    return results\n",
    "end"
   ]
  },
  {
   "cell_type": "markdown",
   "metadata": {},
   "source": [
    "### Step 3: Clean and organize the results from the search "
   ]
  },
  {
   "cell_type": "markdown",
   "metadata": {},
   "source": [
    "The following function cleans the results from the search and transforms them into a ready to use *DataFrame*. The resulting *DataFrame* has dimensions NxM where N is the number of listings and M the number of variables corresponding to each listing. The maximum value of N in each search is 50, and M is equal to 33 in the public version of this API."
   ]
  },
  {
   "cell_type": "code",
   "execution_count": 5,
   "metadata": {},
   "outputs": [
    {
     "data": {
      "text/plain": [
       "read_elementList (generic function with 1 method)"
      ]
     },
     "execution_count": 5,
     "metadata": {},
     "output_type": "execute_result"
    }
   ],
   "source": [
    "function read_elementList(listing::Vector)\n",
    "\n",
    "    # transform Dict into DataFrame\n",
    "    df = DataFrame(listing[1])\n",
    "\n",
    "    for i in 2:length(listing)\n",
    "        dfTemp = DataFrame(listing[i])\n",
    "\n",
    "        # keep only the variables that are present in each Dict\n",
    "        var_names = intersect(names(df), names(dfTemp))\n",
    "        select!(dfTemp, var_names)\n",
    "        select!(df, var_names)\n",
    "\n",
    "        # merge the properties in a single DataFrame\n",
    "        append!(df, dfTemp)\n",
    "    end\n",
    "\n",
    "    return df\n",
    "end"
   ]
  },
  {
   "cell_type": "markdown",
   "metadata": {},
   "source": [
    "## An example: a single request"
   ]
  },
  {
   "cell_type": "markdown",
   "metadata": {},
   "source": [
    "First things first: get the authorization token! "
   ]
  },
  {
   "cell_type": "code",
   "execution_count": 6,
   "metadata": {},
   "outputs": [],
   "source": [
    "apikey = \"your_apikey\"\n",
    "secret = \"your_secret\"\n",
    "token  = get_oauth_token(apikey, secret);"
   ]
  },
  {
   "cell_type": "markdown",
   "metadata": {},
   "source": [
    "Now, you are good to go and you can start your search."
   ]
  },
  {
   "cell_type": "markdown",
   "metadata": {},
   "source": [
    "First, set the filters of your search. For example, imagine that I want to look for rental homes in Madrid whose maximum price is not larger than 3,000€. Then, I will have to specify the \"propertyType\", the \"operation\", the \"maxPrice\" as well as the location. Notice that in order to direct the search to Madrid properties I have to use its coordinates (\"center\") and the maximum \"distance\" from that point. \n",
    "\n",
    "A convenient way to specify those filters is by constructing two arrays: one containing the properties of the listings and the other one its values, and then combine them into a dictionary. "
   ]
  },
  {
   "cell_type": "code",
   "execution_count": 7,
   "metadata": {},
   "outputs": [
    {
     "data": {
      "text/plain": [
       "Dict{String,String} with 11 entries:\n",
       "  \"propertyType\" => \"homes\"\n",
       "  \"language\"     => \"es\"\n",
       "  \"sinceDate\"    => \"M\"\n",
       "  \"distance\"     => \"20000\"\n",
       "  \"maxPrice\"     => \"3000\"\n",
       "  \"operation\"    => \"rent\"\n",
       "  \"maxItems\"     => \"50\"\n",
       "  \"country\"      => \"es\"\n",
       "  \"center\"       => \"40.416,-3.7025\"\n",
       "  \"locale\"       => \"es\"\n",
       "  \"sort\"         => \"asc\""
      ]
     },
     "execution_count": 7,
     "metadata": {},
     "output_type": "execute_result"
    }
   ],
   "source": [
    "property = [\"country\", \"locale\", \"language\", \"operation\", \"propertyType\", \"maxPrice\", \"sort\", \"sinceDate\", \"center\", \"distance\", \"maxItems\"]\n",
    "params = [\"es\", \"es\", \"es\", \"rent\", \"homes\", \"3000\", \"asc\", \"M\", \"40.416,-3.7025\", \"20000\", \"50\"]\n",
    "search_dict = Dict(zip(property, params))"
   ]
  },
  {
   "cell_type": "markdown",
   "metadata": {},
   "source": [
    "Once you have the dictionary containing the values of the filters, you are ready to send the request to the API using the previously generated token and an url that can be obtained using the previously defined function *search_url( )*."
   ]
  },
  {
   "cell_type": "code",
   "execution_count": 8,
   "metadata": {},
   "outputs": [
    {
     "data": {
      "text/plain": [
       "Dict{String,Any} with 11 entries:\n",
       "  \"hiddenResults\"      => false\n",
       "  \"itemsPerPage\"       => 50\n",
       "  \"upperRangePosition\" => 50\n",
       "  \"totalPages\"         => 221\n",
       "  \"paginable\"          => true\n",
       "  \"summary\"            => Any[\"Alquilar\", \"Viviendas\", \"barrio Sol, Madrid\", \"D…\n",
       "  \"total\"              => 11004\n",
       "  \"lowerRangePosition\" => 0\n",
       "  \"elementList\"        => Any[Dict{String,Any}(\"rooms\"=>1,\"propertyCode\"=>\"9127…\n",
       "  \"numPaginations\"     => 0\n",
       "  \"actualPage\"         => 1"
      ]
     },
     "execution_count": 8,
     "metadata": {},
     "output_type": "execute_result"
    }
   ],
   "source": [
    "results = search_api(token, search_url(search_dict))"
   ]
  },
  {
   "cell_type": "markdown",
   "metadata": {},
   "source": [
    "Finally, you need to format the results and transform them into a more manageable form. You can do that by applying the function below to the ''element List'' key of the dictionary resulting form the search."
   ]
  },
  {
   "cell_type": "code",
   "execution_count": 9,
   "metadata": {},
   "outputs": [
    {
     "data": {
      "text/html": [
       "<table class=\"data-frame\"><thead><tr><th></th><th>address</th><th>bathrooms</th><th>country</th><th>detailedType</th></tr><tr><th></th><th>String</th><th>Int64</th><th>String</th><th>Dict…</th></tr></thead><tbody><p>50 rows × 33 columns (omitted printing of 29 columns)</p><tr><th>1</th><td>Calle Mayor</td><td>1</td><td>es</td><td>Dict(\"typology\"=&gt;\"flat\")</td></tr><tr><th>2</th><td>Calle de la Sal</td><td>1</td><td>es</td><td>Dict(\"typology\"=&gt;\"flat\",\"subTypology\"=&gt;\"penthouse\")</td></tr><tr><th>3</th><td>Calle de la Sal</td><td>2</td><td>es</td><td>Dict(\"typology\"=&gt;\"flat\")</td></tr><tr><th>4</th><td>Avenida de América</td><td>1</td><td>es</td><td>Dict(\"typology\"=&gt;\"flat\",\"subTypology\"=&gt;\"penthouse\")</td></tr><tr><th>5</th><td>Calle de Zurbano</td><td>1</td><td>es</td><td>Dict(\"typology\"=&gt;\"flat\",\"subTypology\"=&gt;\"studio\")</td></tr><tr><th>6</th><td>Calle de Cervantes</td><td>1</td><td>es</td><td>Dict(\"typology\"=&gt;\"flat\",\"subTypology\"=&gt;\"penthouse\")</td></tr><tr><th>7</th><td>Calle de Atocha</td><td>1</td><td>es</td><td>Dict(\"typology\"=&gt;\"flat\")</td></tr><tr><th>8</th><td>Calle de viejas, 25</td><td>1</td><td>es</td><td>Dict(\"typology\"=&gt;\"flat\")</td></tr><tr><th>9</th><td>CABESTREROS, 6</td><td>1</td><td>es</td><td>Dict(\"typology\"=&gt;\"flat\",\"subTypology\"=&gt;\"studio\")</td></tr><tr><th>10</th><td>Calle lucano, 6</td><td>1</td><td>es</td><td>Dict(\"typology\"=&gt;\"flat\")</td></tr><tr><th>11</th><td>Plaza de los Templarios</td><td>1</td><td>es</td><td>Dict(\"typology\"=&gt;\"flat\")</td></tr><tr><th>12</th><td>Calle Isabel Clara Eugenia, 62</td><td>2</td><td>es</td><td>Dict(\"typology\"=&gt;\"flat\",\"subTypology\"=&gt;\"penthouse\")</td></tr><tr><th>13</th><td>Calle Juan Esplandiu, 6</td><td>2</td><td>es</td><td>Dict(\"typology\"=&gt;\"flat\")</td></tr><tr><th>14</th><td>Avenida del General Perón</td><td>1</td><td>es</td><td>Dict(\"typology\"=&gt;\"flat\")</td></tr><tr><th>15</th><td>LUNA, 15</td><td>1</td><td>es</td><td>Dict(\"typology\"=&gt;\"flat\")</td></tr><tr><th>16</th><td>Via GRAN, 46</td><td>1</td><td>es</td><td>Dict(\"typology\"=&gt;\"flat\")</td></tr><tr><th>17</th><td>EUGENIO CAXES, 6</td><td>1</td><td>es</td><td>Dict(\"typology\"=&gt;\"flat\",\"subTypology\"=&gt;\"studio\")</td></tr><tr><th>18</th><td>SILVA, 4</td><td>1</td><td>es</td><td>Dict(\"typology\"=&gt;\"flat\",\"subTypology\"=&gt;\"studio\")</td></tr><tr><th>19</th><td>Via GRAN, 45</td><td>1</td><td>es</td><td>Dict(\"typology\"=&gt;\"flat\",\"subTypology\"=&gt;\"studio\")</td></tr><tr><th>20</th><td>Avenida de los Toreros</td><td>2</td><td>es</td><td>Dict(\"typology\"=&gt;\"flat\")</td></tr><tr><th>21</th><td>Calle de Carlos y Guillermo Fernández Shaw</td><td>2</td><td>es</td><td>Dict(\"typology\"=&gt;\"flat\")</td></tr><tr><th>22</th><td>Avenida de Donostierra</td><td>1</td><td>es</td><td>Dict(\"typology\"=&gt;\"flat\")</td></tr><tr><th>23</th><td>Calle de los. Peñascales</td><td>1</td><td>es</td><td>Dict(\"typology\"=&gt;\"flat\")</td></tr><tr><th>24</th><td>Calle del Divino Pastor</td><td>1</td><td>es</td><td>Dict(\"typology\"=&gt;\"flat\")</td></tr><tr><th>25</th><td>Calle granada</td><td>1</td><td>es</td><td>Dict(\"typology\"=&gt;\"flat\")</td></tr><tr><th>26</th><td>Calle velazquez</td><td>1</td><td>es</td><td>Dict(\"typology\"=&gt;\"flat\")</td></tr><tr><th>27</th><td>Avenida Isabel de Farnesio</td><td>2</td><td>es</td><td>Dict(\"typology\"=&gt;\"flat\")</td></tr><tr><th>28</th><td>Calle fuencarral</td><td>1</td><td>es</td><td>Dict(\"typology\"=&gt;\"flat\")</td></tr><tr><th>29</th><td>Calle de Velázquez</td><td>2</td><td>es</td><td>Dict(\"typology\"=&gt;\"flat\")</td></tr><tr><th>30</th><td>Calle Colmenares</td><td>2</td><td>es</td><td>Dict(\"typology\"=&gt;\"flat\")</td></tr><tr><th>&vellip;</th><td>&vellip;</td><td>&vellip;</td><td>&vellip;</td><td>&vellip;</td></tr></tbody></table>"
      ],
      "text/latex": [
       "\\begin{tabular}{r|ccccc}\n",
       "\t& address & bathrooms & country & detailedType & \\\\\n",
       "\t\\hline\n",
       "\t& String & Int64 & String & Dict… & \\\\\n",
       "\t\\hline\n",
       "\t1 & Calle Mayor & 1 & es & Dict(\"typology\"=>\"flat\") & $\\dots$ \\\\\n",
       "\t2 & Calle de la Sal & 1 & es & Dict(\"typology\"=>\"flat\",\"subTypology\"=>\"penthouse\") & $\\dots$ \\\\\n",
       "\t3 & Calle de la Sal & 2 & es & Dict(\"typology\"=>\"flat\") & $\\dots$ \\\\\n",
       "\t4 & Avenida de América & 1 & es & Dict(\"typology\"=>\"flat\",\"subTypology\"=>\"penthouse\") & $\\dots$ \\\\\n",
       "\t5 & Calle de Zurbano & 1 & es & Dict(\"typology\"=>\"flat\",\"subTypology\"=>\"studio\") & $\\dots$ \\\\\n",
       "\t6 & Calle de Cervantes & 1 & es & Dict(\"typology\"=>\"flat\",\"subTypology\"=>\"penthouse\") & $\\dots$ \\\\\n",
       "\t7 & Calle de Atocha & 1 & es & Dict(\"typology\"=>\"flat\") & $\\dots$ \\\\\n",
       "\t8 & Calle de viejas, 25 & 1 & es & Dict(\"typology\"=>\"flat\") & $\\dots$ \\\\\n",
       "\t9 & CABESTREROS, 6 & 1 & es & Dict(\"typology\"=>\"flat\",\"subTypology\"=>\"studio\") & $\\dots$ \\\\\n",
       "\t10 & Calle lucano, 6 & 1 & es & Dict(\"typology\"=>\"flat\") & $\\dots$ \\\\\n",
       "\t11 & Plaza de los Templarios & 1 & es & Dict(\"typology\"=>\"flat\") & $\\dots$ \\\\\n",
       "\t12 & Calle Isabel Clara Eugenia, 62 & 2 & es & Dict(\"typology\"=>\"flat\",\"subTypology\"=>\"penthouse\") & $\\dots$ \\\\\n",
       "\t13 & Calle Juan Esplandiu, 6 & 2 & es & Dict(\"typology\"=>\"flat\") & $\\dots$ \\\\\n",
       "\t14 & Avenida del General Perón & 1 & es & Dict(\"typology\"=>\"flat\") & $\\dots$ \\\\\n",
       "\t15 & LUNA, 15 & 1 & es & Dict(\"typology\"=>\"flat\") & $\\dots$ \\\\\n",
       "\t16 & Via GRAN, 46 & 1 & es & Dict(\"typology\"=>\"flat\") & $\\dots$ \\\\\n",
       "\t17 & EUGENIO CAXES, 6 & 1 & es & Dict(\"typology\"=>\"flat\",\"subTypology\"=>\"studio\") & $\\dots$ \\\\\n",
       "\t18 & SILVA, 4 & 1 & es & Dict(\"typology\"=>\"flat\",\"subTypology\"=>\"studio\") & $\\dots$ \\\\\n",
       "\t19 & Via GRAN, 45 & 1 & es & Dict(\"typology\"=>\"flat\",\"subTypology\"=>\"studio\") & $\\dots$ \\\\\n",
       "\t20 & Avenida de los Toreros & 2 & es & Dict(\"typology\"=>\"flat\") & $\\dots$ \\\\\n",
       "\t21 & Calle de Carlos y Guillermo Fernández Shaw & 2 & es & Dict(\"typology\"=>\"flat\") & $\\dots$ \\\\\n",
       "\t22 & Avenida de Donostierra & 1 & es & Dict(\"typology\"=>\"flat\") & $\\dots$ \\\\\n",
       "\t23 & Calle de los. Peñascales & 1 & es & Dict(\"typology\"=>\"flat\") & $\\dots$ \\\\\n",
       "\t24 & Calle del Divino Pastor & 1 & es & Dict(\"typology\"=>\"flat\") & $\\dots$ \\\\\n",
       "\t25 & Calle granada & 1 & es & Dict(\"typology\"=>\"flat\") & $\\dots$ \\\\\n",
       "\t26 & Calle velazquez & 1 & es & Dict(\"typology\"=>\"flat\") & $\\dots$ \\\\\n",
       "\t27 & Avenida Isabel de Farnesio & 2 & es & Dict(\"typology\"=>\"flat\") & $\\dots$ \\\\\n",
       "\t28 & Calle fuencarral & 1 & es & Dict(\"typology\"=>\"flat\") & $\\dots$ \\\\\n",
       "\t29 & Calle de Velázquez & 2 & es & Dict(\"typology\"=>\"flat\") & $\\dots$ \\\\\n",
       "\t30 & Calle Colmenares & 2 & es & Dict(\"typology\"=>\"flat\") & $\\dots$ \\\\\n",
       "\t$\\dots$ & $\\dots$ & $\\dots$ & $\\dots$ & $\\dots$ &  \\\\\n",
       "\\end{tabular}\n"
      ],
      "text/plain": [
       "50×33 DataFrame. Omitted printing of 30 columns\n",
       "│ Row │ address                       │ bathrooms │ country │\n",
       "│     │ \u001b[90mString\u001b[39m                        │ \u001b[90mInt64\u001b[39m     │ \u001b[90mString\u001b[39m  │\n",
       "├─────┼───────────────────────────────┼───────────┼─────────┤\n",
       "│ 1   │ Calle Mayor                   │ 1         │ es      │\n",
       "│ 2   │ Calle de la Sal               │ 1         │ es      │\n",
       "│ 3   │ Calle de la Sal               │ 2         │ es      │\n",
       "│ 4   │ Avenida de América            │ 1         │ es      │\n",
       "│ 5   │ Calle de Zurbano              │ 1         │ es      │\n",
       "│ 6   │ Calle de Cervantes            │ 1         │ es      │\n",
       "│ 7   │ Calle de Atocha               │ 1         │ es      │\n",
       "│ 8   │ Calle de viejas, 25           │ 1         │ es      │\n",
       "│ 9   │ CABESTREROS, 6                │ 1         │ es      │\n",
       "│ 10  │ Calle lucano, 6               │ 1         │ es      │\n",
       "⋮\n",
       "│ 40  │ Calle de Sandoval, 8          │ 1         │ es      │\n",
       "│ 41  │ NACIONES                      │ 1         │ es      │\n",
       "│ 42  │ VALLEHERMOSO                  │ 1         │ es      │\n",
       "│ 43  │ Calle DIEGO DE LEON           │ 1         │ es      │\n",
       "│ 44  │ Calle de Fomento              │ 2         │ es      │\n",
       "│ 45  │ Calle de los Dos Amigos       │ 2         │ es      │\n",
       "│ 46  │ Cava de San Miguel            │ 1         │ es      │\n",
       "│ 47  │ Calle del Capitán Haya        │ 2         │ es      │\n",
       "│ 48  │ Calle del Poeta Joan Maragall │ 2         │ es      │\n",
       "│ 49  │ Calle del Poeta Joan Maragall │ 1         │ es      │\n",
       "│ 50  │ Calle de San Germán, 37       │ 3         │ es      │"
      ]
     },
     "execution_count": 9,
     "metadata": {},
     "output_type": "execute_result"
    }
   ],
   "source": [
    "listing = results[\"elementList\"]\n",
    "df = read_elementList(listing)"
   ]
  },
  {
   "cell_type": "markdown",
   "metadata": {},
   "source": [
    "And voilà, you are ready to analyze the data from that single search."
   ]
  }
 ],
 "metadata": {
  "kernelspec": {
   "display_name": "Julia 1.5.0",
   "language": "julia",
   "name": "julia-1.5"
  },
  "language_info": {
   "file_extension": ".jl",
   "mimetype": "application/julia",
   "name": "julia",
   "version": "1.5.0"
  }
 },
 "nbformat": 4,
 "nbformat_minor": 2
}
