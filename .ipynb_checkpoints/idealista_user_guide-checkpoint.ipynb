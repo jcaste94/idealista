{
 "cells": [
  {
   "cell_type": "markdown",
   "metadata": {},
   "source": [
    "# A user's guide to the *idealista* public search API.  \n",
    "\n",
    "This notebook explains how to obtain property information published in the *idealista* website using the most exciting programing language out there: the one and only [Julia](https://julialang.org) language. \n",
    "\n",
    "Before we get started, a little background on *idealista* is due. This Spanish enterprise was funded in 2000 and offers real estate services across the entire Spanish geography since 2004. Moreover, they have recently expanded to Italy and Portugal. For more information on their history, you can check their Wikipedia page [here](https://es.wikipedia.org/wiki/Idealista.com). \n",
    "\n",
    "The *idealista* web portal is the most widely used in Spain, and as a result, it has information on a wide range of listed properties across the Spanish geography. This information includes characteristics of the dwellings, e.g. size, number of rooms, number of bathrooms, etc., as well as their asking prices. Consequently, obtaining this information can be very helpful for those interested in housing and rental markets.\n",
    "\n",
    "Luckily, the *idealista* lab offers the possibility to access their database through a public API. In particular, anyone interested can request access in [here](https://developers.idealista.com/access-request). As a result, and after some weeks of waiting, you will receive an \"apikey\" and a \"secret\". These two will allow you to obtain a token that is valid for a maximum of 100 requests per month. I'll show below how to obtain that token using Julia. Given the OAuth 2.0 Authentication bearer token, you will be able to send a request to their public API using different filters on your search. For example, you can decide on the type of operation (sale vs rent), type of property (homes, offices, premises, garages, bedrooms) and/or the location (e.g. Madrid). Once you have selected and specified a value for your filters, you are ready to send the HTTP request and obtain a list with the current listed properties that satisfy your search parameters. \n",
    "\n",
    "**Important limitation.** So far it seems that the *idealista* can be a great source of information for the housing and rental markets in Spain. However, not all that glitters is gold. The public API  only allows you to recover 50 listings at a time. This is because the number of items per page is limited to 50 and you have to specify the page number in your search. Consequently, the combination of this maximum number of item limit and the 100 requests per month limit make the public API insufficient for large scale research projects unless you are willing to spend some money! \n",
    "\n",
    "Notice that it is possible to go beyond the 100 requests per month but you will have to dig deep into your pockets. \n",
    "\n",
    "Bearing that in mind, let's get started!"
   ]
  },
  {
   "cell_type": "markdown",
   "metadata": {},
   "source": [
    "## The Julia Toolbox."
   ]
  },
  {
   "cell_type": "markdown",
   "metadata": {},
   "source": [
    "Below, I reproduce the main functions that are necessary to recover the information that results from a **single search** in the *idealista* web portal. For more complicated searches, e.g. if you want to obtain the listings in different Spanish cites, it is convenient to wrap up these functions into a module.   "
   ]
  },
  {
   "cell_type": "code",
   "execution_count": 1,
   "metadata": {},
   "outputs": [],
   "source": [
    "# Packages:\n",
    "using JSON\n",
    "using Base64\n",
    "using HTTP\n",
    "using DataFrames"
   ]
  },
  {
   "cell_type": "markdown",
   "metadata": {},
   "source": [
    "### Step 1: Getting the authentication token"
   ]
  },
  {
   "cell_type": "markdown",
   "metadata": {},
   "source": [
    "This function takes two arguments: the apikey and the secret, and transforms them into a token. The apikey and the secret are strings that contain both letter and numbers. The resulting token is also a string that is used latter as an input for the search. "
   ]
  },
  {
   "cell_type": "code",
   "execution_count": 2,
   "metadata": {},
   "outputs": [
    {
     "data": {
      "text/plain": [
       "get_oauth_token (generic function with 1 method)"
      ]
     },
     "execution_count": 2,
     "metadata": {},
     "output_type": "execute_result"
    }
   ],
   "source": [
    "function get_oauth_token(apikey::String, secret::String)\n",
    "\n",
    "    url = \"https://api.idealista.com/oauth/token\"\n",
    "    apikey_secret = apikey*\":\"*secret\n",
    "    auth = Base64.base64encode(apikey_secret)\n",
    "\n",
    "    h = [\"Authorization\" => \"Basic \"* auth,\n",
    "         \"Content-Type\" => \"application/x-www-form-urlencoded;charset=UTF-8\"]\n",
    "    b = HTTP.escapeuri([\"grant_type\" => \"client_credentials\"\n",
    "                        \"scope\" => \"read\"])\n",
    "    content = HTTP.request(\"POST\", url, h, b)\n",
    "    bearer_token = JSON.parse(String(content.body))[\"access_token\"]\n",
    "\n",
    "    return bearer_token\n",
    "end"
   ]
  },
  {
   "cell_type": "markdown",
   "metadata": {},
   "source": [
    "### Step 2: Sending a request "
   ]
  },
  {
   "cell_type": "markdown",
   "metadata": {},
   "source": [
    "This function takes a dictionary specifying the parameters of the search and returns the url used for the search. In particular, the keys of the dictionary are the filters that you want to apply, and the values are just that: the values of that specific filter. Notice that the values can take many formats depending on the filter itself. The possible set of filters as well as the type of values each of them admits are specified in the documentation sent along with the apikey and the secret. "
   ]
  },
  {
   "cell_type": "code",
   "execution_count": 3,
   "metadata": {},
   "outputs": [
    {
     "data": {
      "text/plain": [
       "search_url (generic function with 1 method)"
      ]
     },
     "execution_count": 3,
     "metadata": {},
     "output_type": "execute_result"
    }
   ],
   "source": [
    "function search_url(search_params::Dict)\n",
    "\n",
    "    s_ini = \"https://api.idealista.com/3.5/es/search?\"\n",
    "\n",
    "    for key in keys(search_params)\n",
    "        val = search_params[key]\n",
    "        s_ini = s_ini * key * \"=\" * val * \"&\"\n",
    "    end\n",
    "\n",
    "    return  s_ini[1:end-1]\n",
    "end"
   ]
  },
  {
   "cell_type": "markdown",
   "metadata": {},
   "source": [
    "This function sends a request to the *idealista* API using the token from Step 1 and the url obtained in the previous function. The results obtain in this step are however not ready to be analyzed and need to be processed.  "
   ]
  },
  {
   "cell_type": "code",
   "execution_count": 4,
   "metadata": {},
   "outputs": [
    {
     "data": {
      "text/plain": [
       "search_api (generic function with 1 method)"
      ]
     },
     "execution_count": 4,
     "metadata": {},
     "output_type": "execute_result"
    }
   ],
   "source": [
    "function search_api(token::String, url::String)\n",
    "\n",
    "    headers = [\"Content-Type\" => \"Content-Type: multipart/form-data;\"\n",
    "               \"Authorization\" => \"Bearer \" * token]\n",
    "    content = HTTP.request(\"POST\", url, headers)\n",
    "    results = JSON.parse(String(content.body))\n",
    "\n",
    "    return results\n",
    "end"
   ]
  },
  {
   "cell_type": "markdown",
   "metadata": {},
   "source": [
    "### Step 3: Clean and organize the results from the search "
   ]
  },
  {
   "cell_type": "markdown",
   "metadata": {},
   "source": [
    "The following function cleans the results from the search and transforms them into a ready to use *DataFrame*. The resulting *DataFrame* has dimensions NxM where N is the number of listings and M the number of variables corresponding to each listing. Notice that the max value of N in each search is 50.  "
   ]
  },
  {
   "cell_type": "code",
   "execution_count": 5,
   "metadata": {},
   "outputs": [
    {
     "data": {
      "text/plain": [
       "read_elementList (generic function with 1 method)"
      ]
     },
     "execution_count": 5,
     "metadata": {},
     "output_type": "execute_result"
    }
   ],
   "source": [
    "function read_elementList(listing::Vector)\n",
    "\n",
    "    # transform Dict into DataFrame\n",
    "    df = DataFrame(listing[1])\n",
    "\n",
    "    for i in 2:length(listing)\n",
    "        dfTemp = DataFrame(listing[i])\n",
    "\n",
    "        # keep only the variables that are present in each Dict\n",
    "        var_names = intersect(names(df), names(dfTemp))\n",
    "        select!(dfTemp, var_names)\n",
    "        select!(df, var_names)\n",
    "\n",
    "        # merge the properties in a single DataFrame\n",
    "        append!(df, dfTemp)\n",
    "    end\n",
    "\n",
    "    return df\n",
    "end"
   ]
  },
  {
   "cell_type": "markdown",
   "metadata": {},
   "source": [
    "## An example: a single request"
   ]
  },
  {
   "cell_type": "markdown",
   "metadata": {},
   "source": [
    "First things first: get the authorization token! "
   ]
  },
  {
   "cell_type": "code",
   "execution_count": null,
   "metadata": {},
   "outputs": [],
   "source": [
    "token = get_oauth_token();"
   ]
  },
  {
   "cell_type": "markdown",
   "metadata": {},
   "source": [
    "Now, you are good to go and you can start your search."
   ]
  },
  {
   "cell_type": "markdown",
   "metadata": {},
   "source": [
    "First, set the filters of your search next. For example, I will look for rental homes in Madrid whose maximum price is not larger than 3,000€. A convenient way to specify those filters is by constructing two arrays: one containing the properties of the listings and the other one its values, and then combine them into a dictionary. "
   ]
  },
  {
   "cell_type": "code",
   "execution_count": null,
   "metadata": {},
   "outputs": [],
   "source": [
    "property = [\"country\", \"locale\", \"language\", \"operation\", \"propertyType\", \"maxPrice\", \"sort\", \"sinceDate\", \"center\", \"distance\", \"maxItems\"]\n",
    "params = [\"es\", \"es\", \"es\", \"rent\", \"homes\", \"3000\", \"asc\", \"M\", \"40.416,-3.7025\", \"20000\", \"50\"]\n",
    "search_dict = Dict(zip(property, params))"
   ]
  },
  {
   "cell_type": "markdown",
   "metadata": {},
   "source": [
    "Once you have the dictionary containing the values of the filters, you are ready to send the request to the API."
   ]
  },
  {
   "cell_type": "code",
   "execution_count": null,
   "metadata": {},
   "outputs": [],
   "source": [
    "results = search_api(search_dict)"
   ]
  },
  {
   "cell_type": "markdown",
   "metadata": {},
   "source": [
    "Finally, you need to format the results and transform them into a more manageable form. You can do that by applying the function below to the ''element List'' key of the dictionary resulting form the search."
   ]
  },
  {
   "cell_type": "code",
   "execution_count": null,
   "metadata": {},
   "outputs": [],
   "source": [
    "listing = results[\"elementList\"]\n",
    "df = read_elementList(listing)"
   ]
  },
  {
   "cell_type": "markdown",
   "metadata": {},
   "source": [
    "And voilà, you are ready to analyze the data from that single search."
   ]
  }
 ],
 "metadata": {
  "kernelspec": {
   "display_name": "Julia 1.5.0",
   "language": "julia",
   "name": "julia-1.5"
  },
  "language_info": {
   "file_extension": ".jl",
   "mimetype": "application/julia",
   "name": "julia",
   "version": "1.5.0"
  }
 },
 "nbformat": 4,
 "nbformat_minor": 2
}
